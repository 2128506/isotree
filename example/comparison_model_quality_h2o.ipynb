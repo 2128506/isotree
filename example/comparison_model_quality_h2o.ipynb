{
 "cells": [
  {
   "cell_type": "markdown",
   "metadata": {},
   "source": [
    "# Comparing Isolation Forest implementations\n",
    "\n",
    "This is a continuation of the comparisons in [this link](https://github.com/david-cortes/isotree/blob/master/example/comparison_model_quality.ipynb) for different implementations of isolation forests, this time including the H2O package (version 3.34.0.1 at the time of writing). For more details, see the link above and the [Github repository](https://www.github.com/david-cortes/isotree)."
   ]
  },
  {
   "cell_type": "code",
   "execution_count": 1,
   "metadata": {},
   "outputs": [],
   "source": [
    "import numpy as np\n",
    "from sklearn.metrics import roc_auc_score\n",
    "from sklearn.model_selection import StratifiedKFold\n",
    "from sklearn.model_selection import GridSearchCV\n",
    "from sklearn.model_selection import cross_validate\n",
    "from scipy.io import loadmat"
   ]
  },
  {
   "cell_type": "markdown",
   "metadata": {},
   "source": [
    "The H2O library does not follow a scikit-learn-compatible interface design, so a wrapper needs to be made around it:"
   ]
  },
  {
   "cell_type": "code",
   "execution_count": 2,
   "metadata": {},
   "outputs": [],
   "source": [
    "import h2o\n",
    "from h2o.estimators import (\n",
    "    H2OIsolationForestEstimator,\n",
    "    H2OExtendedIsolationForestEstimator\n",
    ")\n",
    "h2o.no_progress()"
   ]
  },
  {
   "cell_type": "code",
   "execution_count": 3,
   "metadata": {},
   "outputs": [],
   "source": [
    "%%capture\n",
    "import os, contextlib\n",
    "with open(os.devnull, \"w\") as f, contextlib.redirect_stdout(f):\n",
    "    h2o.init()"
   ]
  },
  {
   "cell_type": "code",
   "execution_count": 4,
   "metadata": {},
   "outputs": [],
   "source": [
    "from sklearn.base import BaseEstimator\n",
    "\n",
    "class H2O_iso_sk_compat(BaseEstimator):\n",
    "    def __init__(self, sample_size=256, ntrees=100, seed=123, extension_level=0):\n",
    "        self.sample_size = sample_size\n",
    "        self.ntrees = ntrees\n",
    "        self.seed = seed\n",
    "        self.extension_level = extension_level\n",
    "    def fit(self, X, y=None):\n",
    "        X = h2o.H2OFrame(X)\n",
    "        with open(os.devnull, \"w\") as f, contextlib.redirect_stdout(f):\n",
    "            if self.extension_level == 0:\n",
    "                self._model = H2OIsolationForestEstimator(\n",
    "                    training_frame=X, ntrees=self.ntrees, sample_size=self.sample_size,\n",
    "                    seed=self.seed, max_depth=int(np.ceil(np.log2(self.sample_size)))\n",
    "                )\n",
    "            else:\n",
    "                self._model = H2OExtendedIsolationForestEstimator(\n",
    "                    training_frame=X, ntrees=self.ntrees, sample_size=self.sample_size,\n",
    "                    seed=self.seed, extension_level=self.extension_level\n",
    "                )\n",
    "            self._model.train()\n",
    "        return self\n",
    "    def decision_function(self, X):\n",
    "        pred = self._model.predict(test_data=h2o.H2OFrame(X))\n",
    "        if self.extension_level == 0:\n",
    "            pred = pred[\"predict\"]\n",
    "        else:\n",
    "            pred = pred[\"anomaly_score\"]\n",
    "        return pred.as_data_frame().to_numpy().reshape(-1)"
   ]
  },
  {
   "cell_type": "markdown",
   "metadata": {},
   "source": [
    "<a id=\"p1\"></a>\n",
    "## Satellite (6435 rows, 36 columns)"
   ]
  },
  {
   "cell_type": "code",
   "execution_count": 5,
   "metadata": {},
   "outputs": [
    {
     "data": {
      "text/plain": [
       "(6435, 36)"
      ]
     },
     "execution_count": 5,
     "metadata": {},
     "output_type": "execute_result"
    }
   ],
   "source": [
    "satellite = loadmat(\"satellite.mat\")\n",
    "X = np.asfortranarray(satellite[\"X\"]).astype(np.float64)\n",
    "y = satellite[\"y\"].astype(np.float64).reshape(-1)\n",
    "X.shape"
   ]
  },
  {
   "cell_type": "code",
   "execution_count": 6,
   "metadata": {},
   "outputs": [
    {
     "data": {
      "text/plain": [
       "0.6621688220800316"
      ]
     },
     "execution_count": 6,
     "metadata": {},
     "output_type": "execute_result"
    }
   ],
   "source": [
    "p = H2O_iso_sk_compat().fit(X).decision_function(X)\n",
    "roc_auc_score(y, p)"
   ]
  },
  {
   "cell_type": "code",
   "execution_count": 7,
   "metadata": {},
   "outputs": [
    {
     "data": {
      "text/plain": [
       "0.6569443499759784"
      ]
     },
     "execution_count": 7,
     "metadata": {},
     "output_type": "execute_result"
    }
   ],
   "source": [
    "from sklearn.model_selection import cross_validate\n",
    "\n",
    "cv_res = cross_validate(H2O_iso_sk_compat(), X, y, scoring=\"roc_auc\",\n",
    "                        cv=StratifiedKFold(n_splits=10, shuffle=True, random_state=1))\n",
    "cv_res[\"test_score\"].mean()"
   ]
  },
  {
   "cell_type": "code",
   "execution_count": 8,
   "metadata": {},
   "outputs": [
    {
     "data": {
      "text/plain": [
       "{'extension_level': 1, 'sample_size': 5000}"
      ]
     },
     "execution_count": 8,
     "metadata": {},
     "output_type": "execute_result"
    }
   ],
   "source": [
    "params_try = {\n",
    "    \"sample_size\" : [256, 1024, 5000],\n",
    "    \"extension_level\" : [0, 1],\n",
    "}\n",
    "cv_model = GridSearchCV(estimator=H2O_iso_sk_compat(),\n",
    "                        param_grid=params_try,\n",
    "                        scoring=\"roc_auc\", refit=True,\n",
    "                        cv=StratifiedKFold(n_splits=10, shuffle=True, random_state=1))\n",
    "cv_model.fit(X,y)\n",
    "cv_model.best_params_"
   ]
  },
  {
   "cell_type": "code",
   "execution_count": 9,
   "metadata": {},
   "outputs": [
    {
     "data": {
      "text/plain": [
       "0.7484739342885127"
      ]
     },
     "execution_count": 9,
     "metadata": {},
     "output_type": "execute_result"
    }
   ],
   "source": [
    "pred_tuned = cv_model.decision_function(X)\n",
    "roc_auc_score(y, pred_tuned)"
   ]
  },
  {
   "cell_type": "markdown",
   "metadata": {},
   "source": [
    "<a id=\"p2\"></a>\n",
    "## Antthyroid (7200 rows, 6 columns)"
   ]
  },
  {
   "cell_type": "code",
   "execution_count": 10,
   "metadata": {},
   "outputs": [
    {
     "data": {
      "text/plain": [
       "(7200, 6)"
      ]
     },
     "execution_count": 10,
     "metadata": {},
     "output_type": "execute_result"
    }
   ],
   "source": [
    "annthyroid = loadmat(\"annthyroid.mat\")\n",
    "X = np.asfortranarray(annthyroid[\"X\"]).astype(np.float64)\n",
    "y = annthyroid[\"y\"].astype(np.float64).reshape(-1)\n",
    "X.shape"
   ]
  },
  {
   "cell_type": "markdown",
   "metadata": {},
   "source": [
    "Checking isotree library:"
   ]
  },
  {
   "cell_type": "code",
   "execution_count": 11,
   "metadata": {},
   "outputs": [
    {
     "data": {
      "text/plain": [
       "0.8001398454452188"
      ]
     },
     "execution_count": 11,
     "metadata": {},
     "output_type": "execute_result"
    }
   ],
   "source": [
    "p = H2O_iso_sk_compat().fit(X).decision_function(X)\n",
    "roc_auc_score(y, p)"
   ]
  },
  {
   "cell_type": "code",
   "execution_count": 12,
   "metadata": {},
   "outputs": [
    {
     "data": {
      "text/plain": [
       "0.8239561166873454"
      ]
     },
     "execution_count": 12,
     "metadata": {},
     "output_type": "execute_result"
    }
   ],
   "source": [
    "cv_res = cross_validate(H2O_iso_sk_compat(), X, y, scoring=\"roc_auc\",\n",
    "                        cv=StratifiedKFold(n_splits=10, shuffle=True, random_state=1))\n",
    "cv_res[\"test_score\"].mean()"
   ]
  },
  {
   "cell_type": "code",
   "execution_count": 13,
   "metadata": {},
   "outputs": [
    {
     "data": {
      "text/plain": [
       "{'extension_level': 0, 'sample_size': 256}"
      ]
     },
     "execution_count": 13,
     "metadata": {},
     "output_type": "execute_result"
    }
   ],
   "source": [
    "params_try = {\n",
    "    \"sample_size\" : [256, 1024, 5000],\n",
    "    \"extension_level\" : [0, 1],\n",
    "}\n",
    "cv_model = GridSearchCV(estimator=H2O_iso_sk_compat(),\n",
    "                        param_grid=params_try,\n",
    "                        scoring=\"roc_auc\", refit=True,\n",
    "                        cv=StratifiedKFold(n_splits=10, shuffle=True, random_state=1))\n",
    "cv_model.fit(X,y)\n",
    "cv_model.best_params_"
   ]
  },
  {
   "cell_type": "code",
   "execution_count": 14,
   "metadata": {},
   "outputs": [
    {
     "data": {
      "text/plain": [
       "0.8001398454452188"
      ]
     },
     "execution_count": 14,
     "metadata": {},
     "output_type": "execute_result"
    }
   ],
   "source": [
    "pred_tuned = cv_model.decision_function(X)\n",
    "roc_auc_score(y, pred_tuned)"
   ]
  },
  {
   "cell_type": "markdown",
   "metadata": {},
   "source": [
    "<a id=\"p3\"></a>\n",
    "## Pendigits (6870 rows, 16 columns)"
   ]
  },
  {
   "cell_type": "code",
   "execution_count": 15,
   "metadata": {},
   "outputs": [
    {
     "data": {
      "text/plain": [
       "(6870, 16)"
      ]
     },
     "execution_count": 15,
     "metadata": {},
     "output_type": "execute_result"
    }
   ],
   "source": [
    "pendigits = loadmat(\"pendigits.mat\")\n",
    "X = np.asfortranarray(pendigits[\"X\"]).astype(np.float64)\n",
    "y = pendigits[\"y\"].astype(np.float64).reshape(-1)\n",
    "X.shape"
   ]
  },
  {
   "cell_type": "markdown",
   "metadata": {},
   "source": [
    "Checking isotree library:"
   ]
  },
  {
   "cell_type": "code",
   "execution_count": 16,
   "metadata": {},
   "outputs": [
    {
     "data": {
      "text/plain": [
       "0.8747283708744834"
      ]
     },
     "execution_count": 16,
     "metadata": {},
     "output_type": "execute_result"
    }
   ],
   "source": [
    "p = H2O_iso_sk_compat().fit(X).decision_function(X)\n",
    "roc_auc_score(y, p)"
   ]
  },
  {
   "cell_type": "code",
   "execution_count": 17,
   "metadata": {},
   "outputs": [
    {
     "data": {
      "text/plain": [
       "0.9117002061008209"
      ]
     },
     "execution_count": 17,
     "metadata": {},
     "output_type": "execute_result"
    }
   ],
   "source": [
    "cv_res = cross_validate(H2O_iso_sk_compat(), X, y, scoring=\"roc_auc\",\n",
    "                        cv=StratifiedKFold(n_splits=10, shuffle=True, random_state=1))\n",
    "cv_res[\"test_score\"].mean()"
   ]
  },
  {
   "cell_type": "code",
   "execution_count": 18,
   "metadata": {},
   "outputs": [
    {
     "data": {
      "text/plain": [
       "{'extension_level': 1, 'sample_size': 256}"
      ]
     },
     "execution_count": 18,
     "metadata": {},
     "output_type": "execute_result"
    }
   ],
   "source": [
    "params_try = {\n",
    "    \"sample_size\" : [256, 1024, 5000],\n",
    "    \"extension_level\" : [0, 1],\n",
    "}\n",
    "cv_model = GridSearchCV(estimator=H2O_iso_sk_compat(),\n",
    "                        param_grid=params_try,\n",
    "                        scoring=\"roc_auc\", refit=True,\n",
    "                        cv=StratifiedKFold(n_splits=10, shuffle=True, random_state=1))\n",
    "cv_model.fit(X,y)\n",
    "cv_model.best_params_"
   ]
  },
  {
   "cell_type": "code",
   "execution_count": 19,
   "metadata": {},
   "outputs": [
    {
     "data": {
      "text/plain": [
       "0.9677892730841792"
      ]
     },
     "execution_count": 19,
     "metadata": {},
     "output_type": "execute_result"
    }
   ],
   "source": [
    "pred_tuned = cv_model.decision_function(X)\n",
    "roc_auc_score(y, pred_tuned)"
   ]
  }
 ],
 "metadata": {
  "kernelspec": {
   "display_name": "Python (H2O)",
   "language": "python",
   "name": "h2"
  },
  "language_info": {
   "codemirror_mode": {
    "name": "ipython",
    "version": 3
   },
   "file_extension": ".py",
   "mimetype": "text/x-python",
   "name": "python",
   "nbconvert_exporter": "python",
   "pygments_lexer": "ipython3",
   "version": "3.9.7"
  }
 },
 "nbformat": 4,
 "nbformat_minor": 4
}
