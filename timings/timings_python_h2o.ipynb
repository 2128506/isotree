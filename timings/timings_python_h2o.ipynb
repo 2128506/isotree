{
 "cells": [
  {
   "cell_type": "markdown",
   "metadata": {},
   "source": [
    "# Timing Isolation Forest libraries\n",
    "\n",
    "This is a continuation of the timings in [this link](https://github.com/david-cortes/isotree/blob/master/timings/timings_python.ipynb) for different implementations of isolation forests, this time including the H2O package (version 3.34.0.1 at the time of writing). For more details, see the link above and the [Github repository](https://www.github.com/david-cortes/isotree).\n",
    "\n",
    "Note that this library always run multi-threaded, so no separate comparison for single-threaded mode was performed."
   ]
  },
  {
   "cell_type": "code",
   "execution_count": 1,
   "metadata": {},
   "outputs": [],
   "source": [
    "import numpy as np\n",
    "from scipy.io import loadmat"
   ]
  },
  {
   "cell_type": "code",
   "execution_count": 2,
   "metadata": {},
   "outputs": [],
   "source": [
    "import h2o\n",
    "from h2o.estimators import (\n",
    "    H2OIsolationForestEstimator,\n",
    "    H2OExtendedIsolationForestEstimator\n",
    ")\n",
    "h2o.no_progress()"
   ]
  },
  {
   "cell_type": "code",
   "execution_count": 3,
   "metadata": {},
   "outputs": [],
   "source": [
    "%%capture\n",
    "import os, contextlib\n",
    "with open(os.devnull, \"w\") as f, contextlib.redirect_stdout(f):\n",
    "    h2o.init()"
   ]
  },
  {
   "cell_type": "markdown",
   "metadata": {},
   "source": [
    "### Small dataset: Satellite (6435 rows, 36 columns)\n",
    "\n",
    "Data was taken from the ODDS repository - [link](http://odds.cs.stonybrook.edu/satellite-dataset/)."
   ]
  },
  {
   "cell_type": "code",
   "execution_count": 4,
   "metadata": {},
   "outputs": [
    {
     "data": {
      "text/plain": [
       "(6435, 36)"
      ]
     },
     "execution_count": 4,
     "metadata": {},
     "output_type": "execute_result"
    }
   ],
   "source": [
    "satellite = loadmat(\"satellite.mat\")\n",
    "X = np.asfortranarray(satellite[\"X\"]).astype(np.float64)\n",
    "X = h2o.H2OFrame(X)\n",
    "X.shape"
   ]
  },
  {
   "cell_type": "code",
   "execution_count": 5,
   "metadata": {},
   "outputs": [
    {
     "name": "stdout",
     "output_type": "stream",
     "text": [
      "585 ms ± 95.6 ms per loop (mean ± std. dev. of 7 runs, 1 loop each)\n"
     ]
    }
   ],
   "source": [
    "%%timeit\n",
    "with open(os.devnull, \"w\") as f, contextlib.redirect_stdout(f):\n",
    "    iso = H2OIsolationForestEstimator(\n",
    "        training_frame=X,\n",
    "        ntrees=100,\n",
    "        sample_size=256,\n",
    "        max_depth=int(np.ceil(np.log2(256))),\n",
    "        seed=1\n",
    "    )\n",
    "    iso.train()"
   ]
  },
  {
   "cell_type": "code",
   "execution_count": 6,
   "metadata": {},
   "outputs": [
    {
     "name": "stdout",
     "output_type": "stream",
     "text": [
      "950 ms ± 541 ms per loop (mean ± std. dev. of 7 runs, 1 loop each)\n"
     ]
    }
   ],
   "source": [
    "%%timeit\n",
    "with open(os.devnull, \"w\") as f, contextlib.redirect_stdout(f):\n",
    "    iso = H2OIsolationForestEstimator(\n",
    "        training_frame=X,\n",
    "        ntrees=100,\n",
    "        sample_size=1024,\n",
    "        max_depth=int(np.ceil(np.log2(1024))),\n",
    "        seed=1\n",
    "    )\n",
    "    iso.train()"
   ]
  },
  {
   "cell_type": "code",
   "execution_count": 7,
   "metadata": {},
   "outputs": [
    {
     "name": "stdout",
     "output_type": "stream",
     "text": [
      "1.4 s ± 124 ms per loop (mean ± std. dev. of 7 runs, 1 loop each)\n"
     ]
    }
   ],
   "source": [
    "%%timeit\n",
    "with open(os.devnull, \"w\") as f, contextlib.redirect_stdout(f):\n",
    "    iso = H2OIsolationForestEstimator(\n",
    "        training_frame=X,\n",
    "        ntrees=100,\n",
    "        sample_size=6435,\n",
    "        max_depth=int(np.ceil(np.log2(6435))),\n",
    "        seed=1\n",
    "    )\n",
    "    iso.train()"
   ]
  },
  {
   "cell_type": "code",
   "execution_count": 8,
   "metadata": {},
   "outputs": [
    {
     "name": "stdout",
     "output_type": "stream",
     "text": [
      "456 ms ± 72.8 ms per loop (mean ± std. dev. of 7 runs, 1 loop each)\n"
     ]
    }
   ],
   "source": [
    "%%timeit\n",
    "with open(os.devnull, \"w\") as f, contextlib.redirect_stdout(f):\n",
    "    iso = H2OExtendedIsolationForestEstimator(\n",
    "        training_frame=X,\n",
    "        ntrees=100,\n",
    "        sample_size=256,\n",
    "        extension_level=1,\n",
    "        seed=1\n",
    "    )\n",
    "    iso.train()"
   ]
  },
  {
   "cell_type": "code",
   "execution_count": 9,
   "metadata": {},
   "outputs": [
    {
     "name": "stdout",
     "output_type": "stream",
     "text": [
      "1.25 s ± 851 µs per loop (mean ± std. dev. of 7 runs, 1 loop each)\n"
     ]
    }
   ],
   "source": [
    "%%timeit\n",
    "with open(os.devnull, \"w\") as f, contextlib.redirect_stdout(f):\n",
    "    iso = H2OExtendedIsolationForestEstimator(\n",
    "        training_frame=X,\n",
    "        ntrees=100,\n",
    "        sample_size=1024,\n",
    "        extension_level=1,\n",
    "        seed=1\n",
    "    )\n",
    "    iso.train()"
   ]
  },
  {
   "cell_type": "code",
   "execution_count": 10,
   "metadata": {},
   "outputs": [
    {
     "name": "stdout",
     "output_type": "stream",
     "text": [
      "6.2 s ± 30.5 ms per loop (mean ± std. dev. of 7 runs, 1 loop each)\n"
     ]
    }
   ],
   "source": [
    "%%timeit\n",
    "with open(os.devnull, \"w\") as f, contextlib.redirect_stdout(f):\n",
    "    iso = H2OExtendedIsolationForestEstimator(\n",
    "        training_frame=X,\n",
    "        ntrees=100,\n",
    "        sample_size=6435,\n",
    "        extension_level=1,\n",
    "        seed=1\n",
    "    )\n",
    "    iso.train()"
   ]
  },
  {
   "cell_type": "markdown",
   "metadata": {},
   "source": [
    "### Mid-sized dataset: CovType (581,012 rows, 54 columns)"
   ]
  },
  {
   "cell_type": "code",
   "execution_count": 11,
   "metadata": {},
   "outputs": [
    {
     "data": {
      "text/plain": [
       "(581012, 54)"
      ]
     },
     "execution_count": 11,
     "metadata": {},
     "output_type": "execute_result"
    }
   ],
   "source": [
    "from sklearn.datasets import fetch_covtype\n",
    "\n",
    "X, y = fetch_covtype(return_X_y=True)\n",
    "X = np.asfortranarray(X).astype(np.float64)\n",
    "X = h2o.H2OFrame(X)\n",
    "X.shape"
   ]
  },
  {
   "cell_type": "code",
   "execution_count": 12,
   "metadata": {},
   "outputs": [
    {
     "name": "stdout",
     "output_type": "stream",
     "text": [
      "7.32 s ± 26.9 ms per loop (mean ± std. dev. of 7 runs, 1 loop each)\n"
     ]
    }
   ],
   "source": [
    "%%timeit\n",
    "with open(os.devnull, \"w\") as f, contextlib.redirect_stdout(f):\n",
    "    iso = H2OIsolationForestEstimator(\n",
    "        training_frame=X,\n",
    "        ntrees=100,\n",
    "        sample_size=256,\n",
    "        max_depth=int(np.ceil(np.log2(256))),\n",
    "        seed=1\n",
    "    )\n",
    "    iso.train()"
   ]
  },
  {
   "cell_type": "code",
   "execution_count": 13,
   "metadata": {},
   "outputs": [
    {
     "name": "stdout",
     "output_type": "stream",
     "text": [
      "8.79 s ± 317 ms per loop (mean ± std. dev. of 7 runs, 1 loop each)\n"
     ]
    }
   ],
   "source": [
    "%%timeit\n",
    "with open(os.devnull, \"w\") as f, contextlib.redirect_stdout(f):\n",
    "    iso = H2OIsolationForestEstimator(\n",
    "        training_frame=X,\n",
    "        ntrees=100,\n",
    "        sample_size=1024,\n",
    "        max_depth=int(np.ceil(np.log2(1024))),\n",
    "        seed=1\n",
    "    )\n",
    "    iso.train()"
   ]
  },
  {
   "cell_type": "code",
   "execution_count": 14,
   "metadata": {},
   "outputs": [
    {
     "name": "stdout",
     "output_type": "stream",
     "text": [
      "11.8 s ± 1.06 s per loop (mean ± std. dev. of 7 runs, 1 loop each)\n"
     ]
    }
   ],
   "source": [
    "%%timeit\n",
    "with open(os.devnull, \"w\") as f, contextlib.redirect_stdout(f):\n",
    "    iso = H2OIsolationForestEstimator(\n",
    "        training_frame=X,\n",
    "        ntrees=100,\n",
    "        sample_size=10000,\n",
    "        max_depth=int(np.ceil(np.log2(10000))),\n",
    "        seed=1\n",
    "    )\n",
    "    iso.train()"
   ]
  },
  {
   "cell_type": "code",
   "execution_count": 15,
   "metadata": {},
   "outputs": [
    {
     "name": "stdout",
     "output_type": "stream",
     "text": [
      "651 ms ± 71 ms per loop (mean ± std. dev. of 7 runs, 1 loop each)\n"
     ]
    }
   ],
   "source": [
    "%%timeit\n",
    "with open(os.devnull, \"w\") as f, contextlib.redirect_stdout(f):\n",
    "    iso = H2OExtendedIsolationForestEstimator(\n",
    "        training_frame=X,\n",
    "        ntrees=100,\n",
    "        sample_size=256,\n",
    "        extension_level=1,\n",
    "        seed=1\n",
    "    )\n",
    "    iso.train()"
   ]
  },
  {
   "cell_type": "code",
   "execution_count": 16,
   "metadata": {},
   "outputs": [
    {
     "name": "stdout",
     "output_type": "stream",
     "text": [
      "2.14 s ± 992 µs per loop (mean ± std. dev. of 7 runs, 1 loop each)\n"
     ]
    }
   ],
   "source": [
    "%%timeit\n",
    "with open(os.devnull, \"w\") as f, contextlib.redirect_stdout(f):\n",
    "    iso = H2OExtendedIsolationForestEstimator(\n",
    "        training_frame=X,\n",
    "        ntrees=100,\n",
    "        sample_size=1024,\n",
    "        extension_level=1,\n",
    "        seed=1\n",
    "    )\n",
    "    iso.train()"
   ]
  },
  {
   "cell_type": "code",
   "execution_count": 17,
   "metadata": {},
   "outputs": [
    {
     "name": "stdout",
     "output_type": "stream",
     "text": [
      "18.1 s ± 521 ms per loop (mean ± std. dev. of 7 runs, 1 loop each)\n"
     ]
    }
   ],
   "source": [
    "%%timeit\n",
    "with open(os.devnull, \"w\") as f, contextlib.redirect_stdout(f):\n",
    "    iso = H2OExtendedIsolationForestEstimator(\n",
    "        training_frame=X,\n",
    "        ntrees=100,\n",
    "        sample_size=10000,\n",
    "        extension_level=1,\n",
    "        seed=1\n",
    "    )\n",
    "    iso.train()"
   ]
  }
 ],
 "metadata": {
  "kernelspec": {
   "display_name": "Python (H2O)",
   "language": "python",
   "name": "h2"
  },
  "language_info": {
   "codemirror_mode": {
    "name": "ipython",
    "version": 3
   },
   "file_extension": ".py",
   "mimetype": "text/x-python",
   "name": "python",
   "nbconvert_exporter": "python",
   "pygments_lexer": "ipython3",
   "version": "3.9.7"
  }
 },
 "nbformat": 4,
 "nbformat_minor": 4
}
