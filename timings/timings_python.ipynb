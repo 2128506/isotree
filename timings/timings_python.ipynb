{
 "cells": [
  {
   "cell_type": "markdown",
   "metadata": {},
   "source": [
    "# Timing Isolation Forest libraries\n",
    "\n",
    "This notebooks produces timings on fitting Isolation Forest (iForest) and Extended Isolation Forest models to 3 datasets of varying sizes using the libraries [IsoTree](https://github.com/david-cortes/isotree), [SciKit-Learn](https://scikit-learn.org/stable/modules/generated/sklearn.ensemble.IsolationForest.html), and [EIF](https://github.com/sahandha/eif).\n",
    "\n",
    "All of the models produce 100 trees of the same fixed sample sizes. Some are run single-threaded and some multi-threaded where supported. The CPU used is an AMD Ryzen 2 2700 running at 3.2GHz and having 16 threads.\n",
    "\n",
    "Timing sections:\n",
    "* [Satellite (6435 rows, 36 columns)](#p1)\n",
    "* [CovType (581,012 rows, 54 columns)](#p2)\n",
    "* [RCV1 (804,414 rows, 47,236 columns)](#p3)"
   ]
  },
  {
   "cell_type": "code",
   "execution_count": 1,
   "metadata": {},
   "outputs": [],
   "source": [
    "import numpy as np\n",
    "from isotree import IsolationForest as IsolationForestIsoTree\n",
    "from sklearn.ensemble import IsolationForest as IsolationForestSKL\n",
    "from eif import iForest\n",
    "from scipy.io import loadmat"
   ]
  },
  {
   "cell_type": "markdown",
   "metadata": {},
   "source": [
    "<a id=\"p1\"></a>\n",
    "### Small dataset: Satellite (6435 rows, 36 columns)\n",
    "\n",
    "Data was taken from the ODDS repository - [link](http://odds.cs.stonybrook.edu/satellite-dataset/)."
   ]
  },
  {
   "cell_type": "code",
   "execution_count": 2,
   "metadata": {},
   "outputs": [
    {
     "data": {
      "text/plain": [
       "(6435, 36)"
      ]
     },
     "execution_count": 2,
     "metadata": {},
     "output_type": "execute_result"
    }
   ],
   "source": [
    "satellite = loadmat(\"satellite.mat\")\n",
    "X = np.asfortranarray(satellite[\"X\"]).astype(np.float64)\n",
    "X.shape"
   ]
  },
  {
   "cell_type": "markdown",
   "metadata": {},
   "source": [
    "Timing isotree, single-variable model:"
   ]
  },
  {
   "cell_type": "code",
   "execution_count": 3,
   "metadata": {},
   "outputs": [
    {
     "name": "stdout",
     "output_type": "stream",
     "text": [
      "5.31 ms ± 375 µs per loop (mean ± std. dev. of 7 runs, 100 loops each)\n"
     ]
    }
   ],
   "source": [
    "%%timeit\n",
    "iso = IsolationForestIsoTree(ntrees=100, sample_size=256,\n",
    "                             ndim=1, nthreads=1,\n",
    "                             missing_action=\"fail\")\n",
    "iso.fit(X)"
   ]
  },
  {
   "cell_type": "code",
   "execution_count": 4,
   "metadata": {},
   "outputs": [
    {
     "name": "stdout",
     "output_type": "stream",
     "text": [
      "10.7 ms ± 39.5 µs per loop (mean ± std. dev. of 7 runs, 100 loops each)\n"
     ]
    }
   ],
   "source": [
    "%%timeit\n",
    "iso = IsolationForestIsoTree(ntrees=100, sample_size=1024,\n",
    "                             ndim=1, nthreads=1,\n",
    "                             missing_action=\"fail\")\n",
    "iso.fit(X)"
   ]
  },
  {
   "cell_type": "code",
   "execution_count": 5,
   "metadata": {},
   "outputs": [
    {
     "name": "stdout",
     "output_type": "stream",
     "text": [
      "52.2 ms ± 355 µs per loop (mean ± std. dev. of 7 runs, 10 loops each)\n"
     ]
    }
   ],
   "source": [
    "%%timeit\n",
    "iso = IsolationForestIsoTree(ntrees=100, sample_size=6435,\n",
    "                             ndim=1, nthreads=1,\n",
    "                             missing_action=\"fail\")\n",
    "iso.fit(X)"
   ]
  },
  {
   "cell_type": "code",
   "execution_count": 6,
   "metadata": {},
   "outputs": [
    {
     "name": "stdout",
     "output_type": "stream",
     "text": [
      "875 µs ± 35.8 µs per loop (mean ± std. dev. of 7 runs, 1000 loops each)\n"
     ]
    }
   ],
   "source": [
    "%%timeit\n",
    "iso = IsolationForestIsoTree(ntrees=100, sample_size=256,\n",
    "                             ndim=1, nthreads=-1,\n",
    "                             missing_action=\"fail\")\n",
    "iso.fit(X)"
   ]
  },
  {
   "cell_type": "code",
   "execution_count": 7,
   "metadata": {},
   "outputs": [
    {
     "name": "stdout",
     "output_type": "stream",
     "text": [
      "1.64 ms ± 8.18 µs per loop (mean ± std. dev. of 7 runs, 1000 loops each)\n"
     ]
    }
   ],
   "source": [
    "%%timeit\n",
    "iso = IsolationForestIsoTree(ntrees=100, sample_size=1024,\n",
    "                             ndim=1, nthreads=-1,\n",
    "                             missing_action=\"fail\")\n",
    "iso.fit(X)"
   ]
  },
  {
   "cell_type": "code",
   "execution_count": 8,
   "metadata": {},
   "outputs": [
    {
     "name": "stdout",
     "output_type": "stream",
     "text": [
      "6.41 ms ± 17 µs per loop (mean ± std. dev. of 7 runs, 100 loops each)\n"
     ]
    }
   ],
   "source": [
    "%%timeit\n",
    "iso = IsolationForestIsoTree(ntrees=100, sample_size=6435,\n",
    "                             ndim=1, nthreads=-1,\n",
    "                             missing_action=\"fail\")\n",
    "iso.fit(X)"
   ]
  },
  {
   "cell_type": "markdown",
   "metadata": {},
   "source": [
    "Timing isotree, extended model:"
   ]
  },
  {
   "cell_type": "code",
   "execution_count": 9,
   "metadata": {},
   "outputs": [
    {
     "name": "stdout",
     "output_type": "stream",
     "text": [
      "11 ms ± 50 µs per loop (mean ± std. dev. of 7 runs, 100 loops each)\n"
     ]
    }
   ],
   "source": [
    "%%timeit\n",
    "iso = IsolationForestIsoTree(ntrees=100, sample_size=256,\n",
    "                             ndim=2, nthreads=1,\n",
    "                             missing_action=\"fail\")\n",
    "iso.fit(X)"
   ]
  },
  {
   "cell_type": "code",
   "execution_count": 10,
   "metadata": {},
   "outputs": [
    {
     "name": "stdout",
     "output_type": "stream",
     "text": [
      "31.7 ms ± 442 µs per loop (mean ± std. dev. of 7 runs, 10 loops each)\n"
     ]
    }
   ],
   "source": [
    "%%timeit\n",
    "iso = IsolationForestIsoTree(ntrees=100, sample_size=1024,\n",
    "                             ndim=2, nthreads=1,\n",
    "                             missing_action=\"fail\")\n",
    "iso.fit(X)"
   ]
  },
  {
   "cell_type": "code",
   "execution_count": 11,
   "metadata": {},
   "outputs": [
    {
     "name": "stdout",
     "output_type": "stream",
     "text": [
      "186 ms ± 1.52 ms per loop (mean ± std. dev. of 7 runs, 1 loop each)\n"
     ]
    }
   ],
   "source": [
    "%%timeit\n",
    "iso = IsolationForestIsoTree(ntrees=100, sample_size=6435,\n",
    "                             ndim=2, nthreads=1,\n",
    "                             missing_action=\"fail\")\n",
    "iso.fit(X)"
   ]
  },
  {
   "cell_type": "code",
   "execution_count": 12,
   "metadata": {},
   "outputs": [
    {
     "name": "stdout",
     "output_type": "stream",
     "text": [
      "2.24 ms ± 15.9 µs per loop (mean ± std. dev. of 7 runs, 100 loops each)\n"
     ]
    }
   ],
   "source": [
    "%%timeit\n",
    "iso = IsolationForestIsoTree(ntrees=100, sample_size=256,\n",
    "                             ndim=2, nthreads=-1,\n",
    "                             missing_action=\"fail\")\n",
    "iso.fit(X)"
   ]
  },
  {
   "cell_type": "code",
   "execution_count": 13,
   "metadata": {},
   "outputs": [
    {
     "name": "stdout",
     "output_type": "stream",
     "text": [
      "5.63 ms ± 48.3 µs per loop (mean ± std. dev. of 7 runs, 100 loops each)\n"
     ]
    }
   ],
   "source": [
    "%%timeit\n",
    "iso = IsolationForestIsoTree(ntrees=100, sample_size=1024,\n",
    "                             ndim=2, nthreads=-1,\n",
    "                             missing_action=\"fail\")\n",
    "iso.fit(X)"
   ]
  },
  {
   "cell_type": "code",
   "execution_count": 14,
   "metadata": {},
   "outputs": [
    {
     "name": "stdout",
     "output_type": "stream",
     "text": [
      "25.4 ms ± 136 µs per loop (mean ± std. dev. of 7 runs, 10 loops each)\n"
     ]
    }
   ],
   "source": [
    "%%timeit\n",
    "iso = IsolationForestIsoTree(ntrees=100, sample_size=6435,\n",
    "                             ndim=2, nthreads=-1,\n",
    "                             missing_action=\"fail\")\n",
    "iso.fit(X)"
   ]
  },
  {
   "cell_type": "markdown",
   "metadata": {},
   "source": [
    "Timing scikit-learn:"
   ]
  },
  {
   "cell_type": "code",
   "execution_count": 15,
   "metadata": {},
   "outputs": [
    {
     "name": "stdout",
     "output_type": "stream",
     "text": [
      "166 ms ± 9.48 ms per loop (mean ± std. dev. of 7 runs, 1 loop each)\n"
     ]
    }
   ],
   "source": [
    "%%timeit\n",
    "iso = IsolationForestSKL(n_estimators=100, max_samples=256,\n",
    "                         n_jobs=1)\n",
    "iso.fit(X)"
   ]
  },
  {
   "cell_type": "code",
   "execution_count": 16,
   "metadata": {},
   "outputs": [
    {
     "name": "stdout",
     "output_type": "stream",
     "text": [
      "170 ms ± 1.87 ms per loop (mean ± std. dev. of 7 runs, 10 loops each)\n"
     ]
    }
   ],
   "source": [
    "%%timeit\n",
    "iso = IsolationForestSKL(n_estimators=100, max_samples=1024,\n",
    "                         n_jobs=1)\n",
    "iso.fit(X)"
   ]
  },
  {
   "cell_type": "code",
   "execution_count": 17,
   "metadata": {},
   "outputs": [
    {
     "name": "stdout",
     "output_type": "stream",
     "text": [
      "233 ms ± 5.7 ms per loop (mean ± std. dev. of 7 runs, 1 loop each)\n"
     ]
    }
   ],
   "source": [
    "%%timeit\n",
    "iso = IsolationForestSKL(n_estimators=100, max_samples=6435,\n",
    "                         n_jobs=1)\n",
    "iso.fit(X)"
   ]
  },
  {
   "cell_type": "code",
   "execution_count": 18,
   "metadata": {},
   "outputs": [
    {
     "name": "stdout",
     "output_type": "stream",
     "text": [
      "305 ms ± 660 µs per loop (mean ± std. dev. of 7 runs, 1 loop each)\n"
     ]
    }
   ],
   "source": [
    "%%timeit\n",
    "iso = IsolationForestSKL(n_estimators=100, max_samples=256,\n",
    "                         n_jobs=-1)\n",
    "iso.fit(X)"
   ]
  },
  {
   "cell_type": "code",
   "execution_count": 19,
   "metadata": {},
   "outputs": [
    {
     "name": "stdout",
     "output_type": "stream",
     "text": [
      "305 ms ± 540 µs per loop (mean ± std. dev. of 7 runs, 1 loop each)\n"
     ]
    }
   ],
   "source": [
    "%%timeit\n",
    "iso = IsolationForestSKL(n_estimators=100, max_samples=1024,\n",
    "                         n_jobs=-1)\n",
    "iso.fit(X)"
   ]
  },
  {
   "cell_type": "code",
   "execution_count": 20,
   "metadata": {},
   "outputs": [
    {
     "name": "stdout",
     "output_type": "stream",
     "text": [
      "277 ms ± 44.8 ms per loop (mean ± std. dev. of 7 runs, 1 loop each)\n"
     ]
    }
   ],
   "source": [
    "%%timeit\n",
    "iso = IsolationForestSKL(n_estimators=100, max_samples=6435,\n",
    "                         n_jobs=-1)\n",
    "iso.fit(X)"
   ]
  },
  {
   "cell_type": "markdown",
   "metadata": {},
   "source": [
    "Timing eif, single-variable:"
   ]
  },
  {
   "cell_type": "code",
   "execution_count": 21,
   "metadata": {},
   "outputs": [
    {
     "name": "stdout",
     "output_type": "stream",
     "text": [
      "98.9 ms ± 382 µs per loop (mean ± std. dev. of 7 runs, 10 loops each)\n"
     ]
    }
   ],
   "source": [
    "%%timeit\n",
    "iso = iForest(X, ntrees=100, sample_size=256, ExtensionLevel=0, seed=1)"
   ]
  },
  {
   "cell_type": "code",
   "execution_count": 22,
   "metadata": {},
   "outputs": [
    {
     "name": "stdout",
     "output_type": "stream",
     "text": [
      "325 ms ± 3.43 ms per loop (mean ± std. dev. of 7 runs, 1 loop each)\n"
     ]
    }
   ],
   "source": [
    "%%timeit\n",
    "iso = iForest(X, ntrees=100, sample_size=1024, ExtensionLevel=0, seed=1)"
   ]
  },
  {
   "cell_type": "code",
   "execution_count": 23,
   "metadata": {},
   "outputs": [
    {
     "name": "stdout",
     "output_type": "stream",
     "text": [
      "2.18 s ± 8.23 ms per loop (mean ± std. dev. of 7 runs, 1 loop each)\n"
     ]
    }
   ],
   "source": [
    "%%timeit\n",
    "iso = iForest(X, ntrees=100, sample_size=6435, ExtensionLevel=0, seed=1)"
   ]
  },
  {
   "cell_type": "markdown",
   "metadata": {},
   "source": [
    "Timing eif, extended model:"
   ]
  },
  {
   "cell_type": "code",
   "execution_count": 24,
   "metadata": {},
   "outputs": [
    {
     "name": "stdout",
     "output_type": "stream",
     "text": [
      "94.3 ms ± 337 µs per loop (mean ± std. dev. of 7 runs, 10 loops each)\n"
     ]
    }
   ],
   "source": [
    "%%timeit\n",
    "iso = iForest(X, ntrees=100, sample_size=256, ExtensionLevel=1, seed=1)"
   ]
  },
  {
   "cell_type": "code",
   "execution_count": 25,
   "metadata": {},
   "outputs": [
    {
     "name": "stdout",
     "output_type": "stream",
     "text": [
      "333 ms ± 2.78 ms per loop (mean ± std. dev. of 7 runs, 1 loop each)\n"
     ]
    }
   ],
   "source": [
    "%%timeit\n",
    "iso = iForest(X, ntrees=100, sample_size=1024, ExtensionLevel=1, seed=1)"
   ]
  },
  {
   "cell_type": "code",
   "execution_count": 26,
   "metadata": {},
   "outputs": [
    {
     "name": "stdout",
     "output_type": "stream",
     "text": [
      "2.21 s ± 16.2 ms per loop (mean ± std. dev. of 7 runs, 1 loop each)\n"
     ]
    }
   ],
   "source": [
    "%%timeit\n",
    "iso = iForest(X, ntrees=100, sample_size=6435, ExtensionLevel=1, seed=1)"
   ]
  },
  {
   "cell_type": "markdown",
   "metadata": {},
   "source": [
    "<a id=\"p2\"></a>\n",
    "### Mid-sized dataset: CovType (581,012 rows, 54 columns)"
   ]
  },
  {
   "cell_type": "code",
   "execution_count": 27,
   "metadata": {},
   "outputs": [
    {
     "data": {
      "text/plain": [
       "(581012, 54)"
      ]
     },
     "execution_count": 27,
     "metadata": {},
     "output_type": "execute_result"
    }
   ],
   "source": [
    "from sklearn.datasets import fetch_covtype\n",
    "\n",
    "X, y = fetch_covtype(return_X_y=True)\n",
    "X = np.asfortranarray(X).astype(np.float64)\n",
    "X.shape"
   ]
  },
  {
   "cell_type": "markdown",
   "metadata": {},
   "source": [
    "Timing isotree, single-variable model:"
   ]
  },
  {
   "cell_type": "code",
   "execution_count": 28,
   "metadata": {},
   "outputs": [
    {
     "name": "stdout",
     "output_type": "stream",
     "text": [
      "7.52 ms ± 222 µs per loop (mean ± std. dev. of 7 runs, 100 loops each)\n"
     ]
    }
   ],
   "source": [
    "%%timeit\n",
    "iso = IsolationForestIsoTree(ntrees=100, sample_size=256,\n",
    "                             ndim=1, nthreads=1,\n",
    "                             missing_action=\"fail\")\n",
    "iso.fit(X)"
   ]
  },
  {
   "cell_type": "code",
   "execution_count": 29,
   "metadata": {},
   "outputs": [
    {
     "name": "stdout",
     "output_type": "stream",
     "text": [
      "28.4 ms ± 215 µs per loop (mean ± std. dev. of 7 runs, 10 loops each)\n"
     ]
    }
   ],
   "source": [
    "%%timeit\n",
    "iso = IsolationForestIsoTree(ntrees=100, sample_size=1024,\n",
    "                             ndim=1, nthreads=1,\n",
    "                             missing_action=\"fail\")\n",
    "iso.fit(X)"
   ]
  },
  {
   "cell_type": "code",
   "execution_count": 30,
   "metadata": {},
   "outputs": [
    {
     "name": "stdout",
     "output_type": "stream",
     "text": [
      "326 ms ± 2.57 ms per loop (mean ± std. dev. of 7 runs, 1 loop each)\n"
     ]
    }
   ],
   "source": [
    "%%timeit\n",
    "iso = IsolationForestIsoTree(ntrees=100, sample_size=10000,\n",
    "                             ndim=1, nthreads=1,\n",
    "                             missing_action=\"fail\")\n",
    "iso.fit(X)"
   ]
  },
  {
   "cell_type": "code",
   "execution_count": 31,
   "metadata": {},
   "outputs": [
    {
     "name": "stdout",
     "output_type": "stream",
     "text": [
      "1.61 ms ± 7.38 µs per loop (mean ± std. dev. of 7 runs, 1000 loops each)\n"
     ]
    }
   ],
   "source": [
    "%%timeit\n",
    "iso = IsolationForestIsoTree(ntrees=100, sample_size=256,\n",
    "                             ndim=1, nthreads=-1,\n",
    "                             missing_action=\"fail\")\n",
    "iso.fit(X)"
   ]
  },
  {
   "cell_type": "code",
   "execution_count": 32,
   "metadata": {},
   "outputs": [
    {
     "name": "stdout",
     "output_type": "stream",
     "text": [
      "6.31 ms ± 23.6 µs per loop (mean ± std. dev. of 7 runs, 100 loops each)\n"
     ]
    }
   ],
   "source": [
    "%%timeit\n",
    "iso = IsolationForestIsoTree(ntrees=100, sample_size=1024,\n",
    "                             ndim=1, nthreads=-1,\n",
    "                             missing_action=\"fail\")\n",
    "iso.fit(X)"
   ]
  },
  {
   "cell_type": "code",
   "execution_count": 33,
   "metadata": {},
   "outputs": [
    {
     "name": "stdout",
     "output_type": "stream",
     "text": [
      "84.8 ms ± 128 µs per loop (mean ± std. dev. of 7 runs, 10 loops each)\n"
     ]
    }
   ],
   "source": [
    "%%timeit\n",
    "iso = IsolationForestIsoTree(ntrees=100, sample_size=10000,\n",
    "                             ndim=1, nthreads=-1,\n",
    "                             missing_action=\"fail\")\n",
    "iso.fit(X)"
   ]
  },
  {
   "cell_type": "markdown",
   "metadata": {},
   "source": [
    "Timing isotree, extended model:"
   ]
  },
  {
   "cell_type": "code",
   "execution_count": 34,
   "metadata": {},
   "outputs": [
    {
     "name": "stdout",
     "output_type": "stream",
     "text": [
      "13.9 ms ± 23.1 µs per loop (mean ± std. dev. of 7 runs, 100 loops each)\n"
     ]
    }
   ],
   "source": [
    "%%timeit\n",
    "iso = IsolationForestIsoTree(ntrees=100, sample_size=256,\n",
    "                             ndim=2, nthreads=1,\n",
    "                             missing_action=\"fail\")\n",
    "iso.fit(X)"
   ]
  },
  {
   "cell_type": "code",
   "execution_count": 35,
   "metadata": {},
   "outputs": [
    {
     "name": "stdout",
     "output_type": "stream",
     "text": [
      "53.2 ms ± 721 µs per loop (mean ± std. dev. of 7 runs, 10 loops each)\n"
     ]
    }
   ],
   "source": [
    "%%timeit\n",
    "iso = IsolationForestIsoTree(ntrees=100, sample_size=1024,\n",
    "                             ndim=2, nthreads=1,\n",
    "                             missing_action=\"fail\")\n",
    "iso.fit(X)"
   ]
  },
  {
   "cell_type": "code",
   "execution_count": 36,
   "metadata": {},
   "outputs": [
    {
     "name": "stdout",
     "output_type": "stream",
     "text": [
      "604 ms ± 2.47 ms per loop (mean ± std. dev. of 7 runs, 1 loop each)\n"
     ]
    }
   ],
   "source": [
    "%%timeit\n",
    "iso = IsolationForestIsoTree(ntrees=100, sample_size=10000,\n",
    "                             ndim=2, nthreads=1,\n",
    "                             missing_action=\"fail\")\n",
    "iso.fit(X)"
   ]
  },
  {
   "cell_type": "code",
   "execution_count": 37,
   "metadata": {},
   "outputs": [
    {
     "name": "stdout",
     "output_type": "stream",
     "text": [
      "3.26 ms ± 17.6 µs per loop (mean ± std. dev. of 7 runs, 100 loops each)\n"
     ]
    }
   ],
   "source": [
    "%%timeit\n",
    "iso = IsolationForestIsoTree(ntrees=100, sample_size=256,\n",
    "                             ndim=2, nthreads=-1,\n",
    "                             missing_action=\"fail\")\n",
    "iso.fit(X)"
   ]
  },
  {
   "cell_type": "code",
   "execution_count": 38,
   "metadata": {},
   "outputs": [
    {
     "name": "stdout",
     "output_type": "stream",
     "text": [
      "12.3 ms ± 38.2 µs per loop (mean ± std. dev. of 7 runs, 100 loops each)\n"
     ]
    }
   ],
   "source": [
    "%%timeit\n",
    "iso = IsolationForestIsoTree(ntrees=100, sample_size=1024,\n",
    "                             ndim=2, nthreads=-1,\n",
    "                             missing_action=\"fail\")\n",
    "iso.fit(X)"
   ]
  },
  {
   "cell_type": "code",
   "execution_count": 39,
   "metadata": {},
   "outputs": [
    {
     "name": "stdout",
     "output_type": "stream",
     "text": [
      "168 ms ± 121 µs per loop (mean ± std. dev. of 7 runs, 10 loops each)\n"
     ]
    }
   ],
   "source": [
    "%%timeit\n",
    "iso = IsolationForestIsoTree(ntrees=100, sample_size=10000,\n",
    "                             ndim=2, nthreads=-1,\n",
    "                             missing_action=\"fail\")\n",
    "iso.fit(X)"
   ]
  },
  {
   "cell_type": "markdown",
   "metadata": {},
   "source": [
    "Timing scikit-learn:"
   ]
  },
  {
   "cell_type": "code",
   "execution_count": 40,
   "metadata": {},
   "outputs": [
    {
     "name": "stdout",
     "output_type": "stream",
     "text": [
      "10.1 s ± 162 ms per loop (mean ± std. dev. of 7 runs, 1 loop each)\n"
     ]
    }
   ],
   "source": [
    "%%timeit\n",
    "iso = IsolationForestSKL(n_estimators=100, max_samples=256,\n",
    "                         n_jobs=1)\n",
    "iso.fit(X)"
   ]
  },
  {
   "cell_type": "code",
   "execution_count": 41,
   "metadata": {},
   "outputs": [
    {
     "name": "stdout",
     "output_type": "stream",
     "text": [
      "10.6 s ± 155 ms per loop (mean ± std. dev. of 7 runs, 1 loop each)\n"
     ]
    }
   ],
   "source": [
    "%%timeit\n",
    "iso = IsolationForestSKL(n_estimators=100, max_samples=1024,\n",
    "                         n_jobs=1)\n",
    "iso.fit(X)"
   ]
  },
  {
   "cell_type": "code",
   "execution_count": 42,
   "metadata": {},
   "outputs": [
    {
     "name": "stdout",
     "output_type": "stream",
     "text": [
      "11.1 s ± 170 ms per loop (mean ± std. dev. of 7 runs, 1 loop each)\n"
     ]
    }
   ],
   "source": [
    "%%timeit\n",
    "iso = IsolationForestSKL(n_estimators=100, max_samples=10000,\n",
    "                         n_jobs=1)\n",
    "iso.fit(X)"
   ]
  },
  {
   "cell_type": "code",
   "execution_count": 43,
   "metadata": {},
   "outputs": [
    {
     "name": "stdout",
     "output_type": "stream",
     "text": [
      "8.3 s ± 90.4 ms per loop (mean ± std. dev. of 7 runs, 1 loop each)\n"
     ]
    }
   ],
   "source": [
    "%%timeit\n",
    "iso = IsolationForestSKL(n_estimators=100, max_samples=256,\n",
    "                         n_jobs=-1)\n",
    "iso.fit(X)"
   ]
  },
  {
   "cell_type": "code",
   "execution_count": 44,
   "metadata": {},
   "outputs": [
    {
     "name": "stdout",
     "output_type": "stream",
     "text": [
      "8.01 s ± 71.5 ms per loop (mean ± std. dev. of 7 runs, 1 loop each)\n"
     ]
    }
   ],
   "source": [
    "%%timeit\n",
    "iso = IsolationForestSKL(n_estimators=100, max_samples=1024,\n",
    "                         n_jobs=-1)\n",
    "iso.fit(X)"
   ]
  },
  {
   "cell_type": "code",
   "execution_count": 45,
   "metadata": {},
   "outputs": [
    {
     "name": "stdout",
     "output_type": "stream",
     "text": [
      "6.89 s ± 188 ms per loop (mean ± std. dev. of 7 runs, 1 loop each)\n"
     ]
    }
   ],
   "source": [
    "%%timeit\n",
    "iso = IsolationForestSKL(n_estimators=100, max_samples=10000,\n",
    "                         n_jobs=-1)\n",
    "iso.fit(X)"
   ]
  },
  {
   "cell_type": "markdown",
   "metadata": {},
   "source": [
    "Timing eif, single-variable model:"
   ]
  },
  {
   "cell_type": "code",
   "execution_count": 46,
   "metadata": {},
   "outputs": [
    {
     "name": "stdout",
     "output_type": "stream",
     "text": [
      "149 ms ± 1.09 ms per loop (mean ± std. dev. of 7 runs, 10 loops each)\n"
     ]
    }
   ],
   "source": [
    "%%timeit\n",
    "iso = iForest(X, ntrees=100, sample_size=256, ExtensionLevel=0, seed=1)"
   ]
  },
  {
   "cell_type": "code",
   "execution_count": 47,
   "metadata": {},
   "outputs": [
    {
     "name": "stdout",
     "output_type": "stream",
     "text": [
      "398 ms ± 3.01 ms per loop (mean ± std. dev. of 7 runs, 1 loop each)\n"
     ]
    }
   ],
   "source": [
    "%%timeit\n",
    "iso = iForest(X, ntrees=100, sample_size=1024, ExtensionLevel=0, seed=1)"
   ]
  },
  {
   "cell_type": "code",
   "execution_count": 48,
   "metadata": {},
   "outputs": [
    {
     "name": "stdout",
     "output_type": "stream",
     "text": [
      "4.99 s ± 73.9 ms per loop (mean ± std. dev. of 7 runs, 1 loop each)\n"
     ]
    }
   ],
   "source": [
    "%%timeit\n",
    "iso = iForest(X, ntrees=100, sample_size=10000, ExtensionLevel=0, seed=1)"
   ]
  },
  {
   "cell_type": "markdown",
   "metadata": {},
   "source": [
    "Timing eif, extended model:"
   ]
  },
  {
   "cell_type": "code",
   "execution_count": 49,
   "metadata": {},
   "outputs": [
    {
     "name": "stdout",
     "output_type": "stream",
     "text": [
      "160 ms ± 865 µs per loop (mean ± std. dev. of 7 runs, 10 loops each)\n"
     ]
    }
   ],
   "source": [
    "%%timeit\n",
    "iso = iForest(X, ntrees=100, sample_size=256, ExtensionLevel=1, seed=1)"
   ]
  },
  {
   "cell_type": "code",
   "execution_count": 50,
   "metadata": {},
   "outputs": [
    {
     "name": "stdout",
     "output_type": "stream",
     "text": [
      "428 ms ± 8.84 ms per loop (mean ± std. dev. of 7 runs, 1 loop each)\n"
     ]
    }
   ],
   "source": [
    "%%timeit\n",
    "iso = iForest(X, ntrees=100, sample_size=1024, ExtensionLevel=1, seed=1)"
   ]
  },
  {
   "cell_type": "code",
   "execution_count": 51,
   "metadata": {},
   "outputs": [
    {
     "name": "stdout",
     "output_type": "stream",
     "text": [
      "5.06 s ± 6.37 ms per loop (mean ± std. dev. of 7 runs, 1 loop each)\n"
     ]
    }
   ],
   "source": [
    "%%timeit\n",
    "iso = iForest(X, ntrees=100, sample_size=10000, ExtensionLevel=1, seed=1)"
   ]
  },
  {
   "cell_type": "markdown",
   "metadata": {},
   "source": [
    "<a id=\"p3\"></a>\n",
    "### Large sparse dataset: RCV1 (804,414 rows, 47,236 columns)\n",
    "\n",
    "**(Note: the EIF library currently does not offer support for sparse input types)**"
   ]
  },
  {
   "cell_type": "code",
   "execution_count": 52,
   "metadata": {},
   "outputs": [],
   "source": [
    "from sklearn.datasets import fetch_rcv1\n",
    "from scipy.sparse import csc_matrix\n",
    "\n",
    "X, y = fetch_rcv1(return_X_y=True)\n",
    "X = csc_matrix(X).astype(np.float64)"
   ]
  },
  {
   "cell_type": "markdown",
   "metadata": {},
   "source": [
    "Timing isotree, single-variable model:"
   ]
  },
  {
   "cell_type": "code",
   "execution_count": 53,
   "metadata": {},
   "outputs": [
    {
     "name": "stdout",
     "output_type": "stream",
     "text": [
      "67.7 ms ± 1.09 ms per loop (mean ± std. dev. of 7 runs, 10 loops each)\n"
     ]
    }
   ],
   "source": [
    "%%timeit\n",
    "iso = IsolationForestIsoTree(ntrees=100, sample_size=256,\n",
    "                             ndim=1, nthreads=1,\n",
    "                             missing_action=\"fail\")\n",
    "iso.fit(X)"
   ]
  },
  {
   "cell_type": "code",
   "execution_count": 54,
   "metadata": {},
   "outputs": [
    {
     "name": "stdout",
     "output_type": "stream",
     "text": [
      "118 ms ± 6.44 ms per loop (mean ± std. dev. of 7 runs, 10 loops each)\n"
     ]
    }
   ],
   "source": [
    "%%timeit\n",
    "iso = IsolationForestIsoTree(ntrees=100, sample_size=1024,\n",
    "                             ndim=1, nthreads=1,\n",
    "                             missing_action=\"fail\")\n",
    "iso.fit(X)"
   ]
  },
  {
   "cell_type": "code",
   "execution_count": 55,
   "metadata": {},
   "outputs": [
    {
     "name": "stdout",
     "output_type": "stream",
     "text": [
      "490 ms ± 3.33 ms per loop (mean ± std. dev. of 7 runs, 1 loop each)\n"
     ]
    }
   ],
   "source": [
    "%%timeit\n",
    "iso = IsolationForestIsoTree(ntrees=100, sample_size=10000,\n",
    "                             ndim=1, nthreads=1,\n",
    "                             missing_action=\"fail\")\n",
    "iso.fit(X)"
   ]
  },
  {
   "cell_type": "code",
   "execution_count": 56,
   "metadata": {},
   "outputs": [
    {
     "name": "stdout",
     "output_type": "stream",
     "text": [
      "45.6 ms ± 42.3 µs per loop (mean ± std. dev. of 7 runs, 10 loops each)\n"
     ]
    }
   ],
   "source": [
    "%%timeit\n",
    "iso = IsolationForestIsoTree(ntrees=100, sample_size=256,\n",
    "                             ndim=1, nthreads=-1,\n",
    "                             missing_action=\"fail\")\n",
    "iso.fit(X)"
   ]
  },
  {
   "cell_type": "code",
   "execution_count": 57,
   "metadata": {},
   "outputs": [
    {
     "name": "stdout",
     "output_type": "stream",
     "text": [
      "51.3 ms ± 84.6 µs per loop (mean ± std. dev. of 7 runs, 10 loops each)\n"
     ]
    }
   ],
   "source": [
    "%%timeit\n",
    "iso = IsolationForestIsoTree(ntrees=100, sample_size=1024,\n",
    "                             ndim=1, nthreads=-1,\n",
    "                             missing_action=\"fail\")\n",
    "iso.fit(X)"
   ]
  },
  {
   "cell_type": "code",
   "execution_count": 58,
   "metadata": {},
   "outputs": [
    {
     "name": "stdout",
     "output_type": "stream",
     "text": [
      "97.7 ms ± 1.23 ms per loop (mean ± std. dev. of 7 runs, 10 loops each)\n"
     ]
    }
   ],
   "source": [
    "%%timeit\n",
    "iso = IsolationForestIsoTree(ntrees=100, sample_size=10000,\n",
    "                             ndim=1, nthreads=-1,\n",
    "                             missing_action=\"fail\")\n",
    "iso.fit(X)"
   ]
  },
  {
   "cell_type": "markdown",
   "metadata": {},
   "source": [
    "Timing isotree, extended model:"
   ]
  },
  {
   "cell_type": "code",
   "execution_count": 59,
   "metadata": {},
   "outputs": [
    {
     "name": "stdout",
     "output_type": "stream",
     "text": [
      "152 ms ± 7.04 ms per loop (mean ± std. dev. of 7 runs, 1 loop each)\n"
     ]
    }
   ],
   "source": [
    "%%timeit\n",
    "iso = IsolationForestIsoTree(ntrees=100, sample_size=256,\n",
    "                             ndim=2, nthreads=1,\n",
    "                             missing_action=\"fail\")\n",
    "iso.fit(X)"
   ]
  },
  {
   "cell_type": "code",
   "execution_count": 60,
   "metadata": {},
   "outputs": [
    {
     "name": "stdout",
     "output_type": "stream",
     "text": [
      "249 ms ± 2.3 ms per loop (mean ± std. dev. of 7 runs, 1 loop each)\n"
     ]
    }
   ],
   "source": [
    "%%timeit\n",
    "iso = IsolationForestIsoTree(ntrees=100, sample_size=1024,\n",
    "                             ndim=2, nthreads=1,\n",
    "                             missing_action=\"fail\")\n",
    "iso.fit(X)"
   ]
  },
  {
   "cell_type": "code",
   "execution_count": 61,
   "metadata": {},
   "outputs": [
    {
     "name": "stdout",
     "output_type": "stream",
     "text": [
      "844 ms ± 19.6 ms per loop (mean ± std. dev. of 7 runs, 1 loop each)\n"
     ]
    }
   ],
   "source": [
    "%%timeit\n",
    "iso = IsolationForestIsoTree(ntrees=100, sample_size=10000,\n",
    "                             ndim=2, nthreads=1,\n",
    "                             missing_action=\"fail\")\n",
    "iso.fit(X)"
   ]
  },
  {
   "cell_type": "code",
   "execution_count": 62,
   "metadata": {},
   "outputs": [
    {
     "name": "stdout",
     "output_type": "stream",
     "text": [
      "58.7 ms ± 69.8 µs per loop (mean ± std. dev. of 7 runs, 10 loops each)\n"
     ]
    }
   ],
   "source": [
    "%%timeit\n",
    "iso = IsolationForestIsoTree(ntrees=100, sample_size=256,\n",
    "                             ndim=2, nthreads=-1,\n",
    "                             missing_action=\"fail\")\n",
    "iso.fit(X)"
   ]
  },
  {
   "cell_type": "code",
   "execution_count": 63,
   "metadata": {},
   "outputs": [
    {
     "name": "stdout",
     "output_type": "stream",
     "text": [
      "71.1 ms ± 861 µs per loop (mean ± std. dev. of 7 runs, 10 loops each)\n"
     ]
    }
   ],
   "source": [
    "%%timeit\n",
    "iso = IsolationForestIsoTree(ntrees=100, sample_size=1024,\n",
    "                             ndim=2, nthreads=-1,\n",
    "                             missing_action=\"fail\")\n",
    "iso.fit(X)"
   ]
  },
  {
   "cell_type": "code",
   "execution_count": 64,
   "metadata": {},
   "outputs": [
    {
     "name": "stdout",
     "output_type": "stream",
     "text": [
      "145 ms ± 1.66 ms per loop (mean ± std. dev. of 7 runs, 10 loops each)\n"
     ]
    }
   ],
   "source": [
    "%%timeit\n",
    "iso = IsolationForestIsoTree(ntrees=100, sample_size=10000,\n",
    "                             ndim=2, nthreads=-1,\n",
    "                             missing_action=\"fail\")\n",
    "iso.fit(X)"
   ]
  },
  {
   "cell_type": "markdown",
   "metadata": {},
   "source": [
    "Timing scikit-learn:\n",
    "\n",
    "**(Note: scikit-learn will run out-of-memory in this machine if ran with all the available threads)**"
   ]
  },
  {
   "cell_type": "code",
   "execution_count": 65,
   "metadata": {},
   "outputs": [
    {
     "name": "stdout",
     "output_type": "stream",
     "text": [
      "30.9 s ± 48.7 ms per loop (mean ± std. dev. of 7 runs, 1 loop each)\n"
     ]
    }
   ],
   "source": [
    "%%timeit\n",
    "iso = IsolationForestSKL(n_estimators=100, max_samples=256,\n",
    "                         n_jobs=1)\n",
    "iso.fit(X)"
   ]
  },
  {
   "cell_type": "code",
   "execution_count": 66,
   "metadata": {},
   "outputs": [
    {
     "name": "stdout",
     "output_type": "stream",
     "text": [
      "31.6 s ± 64.7 ms per loop (mean ± std. dev. of 7 runs, 1 loop each)\n"
     ]
    }
   ],
   "source": [
    "%%timeit\n",
    "iso = IsolationForestSKL(n_estimators=100, max_samples=1024,\n",
    "                         n_jobs=1)\n",
    "iso.fit(X)"
   ]
  },
  {
   "cell_type": "code",
   "execution_count": 67,
   "metadata": {},
   "outputs": [
    {
     "name": "stdout",
     "output_type": "stream",
     "text": [
      "32.8 s ± 126 ms per loop (mean ± std. dev. of 7 runs, 1 loop each)\n"
     ]
    }
   ],
   "source": [
    "%%timeit\n",
    "iso = IsolationForestSKL(n_estimators=100, max_samples=10000,\n",
    "                         n_jobs=1)\n",
    "iso.fit(X)"
   ]
  },
  {
   "cell_type": "code",
   "execution_count": 68,
   "metadata": {},
   "outputs": [
    {
     "name": "stdout",
     "output_type": "stream",
     "text": [
      "17.8 s ± 160 ms per loop (mean ± std. dev. of 7 runs, 1 loop each)\n"
     ]
    }
   ],
   "source": [
    "%%timeit\n",
    "iso = IsolationForestSKL(n_estimators=100, max_samples=256,\n",
    "                         n_jobs=4)\n",
    "iso.fit(X)"
   ]
  },
  {
   "cell_type": "code",
   "execution_count": 69,
   "metadata": {},
   "outputs": [
    {
     "name": "stdout",
     "output_type": "stream",
     "text": [
      "18.1 s ± 317 ms per loop (mean ± std. dev. of 7 runs, 1 loop each)\n"
     ]
    }
   ],
   "source": [
    "%%timeit\n",
    "iso = IsolationForestSKL(n_estimators=100, max_samples=1024,\n",
    "                         n_jobs=4)\n",
    "iso.fit(X)"
   ]
  },
  {
   "cell_type": "code",
   "execution_count": 70,
   "metadata": {},
   "outputs": [
    {
     "name": "stdout",
     "output_type": "stream",
     "text": [
      "18.5 s ± 104 ms per loop (mean ± std. dev. of 7 runs, 1 loop each)\n"
     ]
    }
   ],
   "source": [
    "%%timeit\n",
    "iso = IsolationForestSKL(n_estimators=100, max_samples=10000,\n",
    "                         n_jobs=4)\n",
    "iso.fit(X)"
   ]
  }
 ],
 "metadata": {
  "kernelspec": {
   "display_name": "Python 3",
   "language": "python",
   "name": "python3"
  },
  "language_info": {
   "codemirror_mode": {
    "name": "ipython",
    "version": 3
   },
   "file_extension": ".py",
   "mimetype": "text/x-python",
   "name": "python",
   "nbconvert_exporter": "python",
   "pygments_lexer": "ipython3",
   "version": "3.7.7"
  }
 },
 "nbformat": 4,
 "nbformat_minor": 4
}
